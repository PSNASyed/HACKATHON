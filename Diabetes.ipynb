{
  "metadata": {
    "language_info": {
      "codemirror_mode": {
        "name": "python",
        "version": 3
      },
      "file_extension": ".py",
      "mimetype": "text/x-python",
      "name": "python",
      "nbconvert_exporter": "python",
      "pygments_lexer": "ipython3",
      "version": "3.8"
    },
    "kernelspec": {
      "name": "python",
      "display_name": "Python (Pyodide)",
      "language": "python"
    }
  },
  "nbformat_minor": 4,
  "nbformat": 4,
  "cells": [
    {
      "cell_type": "code",
      "source": "import pandas as pd\nimport numpy as np\nimport matplotlib.pyplot as plt\nimport sklearn\nfrom sklearn.neural_network import MLPClassifier\nfrom sklearn.neural_network import MLPRegressor\n\n#importing modules\nfrom sklearn.model_selection import train_test_split\nfrom sklearn.metrics import mean_squared_error\nfrom math import sqrt\nfrom sklearn.metrics import r2_score\nfrom sklearn import datasets, linear_model",
      "metadata": {
        "trusted": true
      },
      "execution_count": 17,
      "outputs": []
    },
    {
      "cell_type": "code",
      "source": "",
      "metadata": {
        "trusted": true
      },
      "execution_count": null,
      "outputs": []
    },
    {
      "cell_type": "code",
      "source": "class perceptron(object):\n    def __init__(self,l_r,iter_):\n        self.l_r = l_r\n        self.iter_ = iter_\n    def fit(self,x,y):\n        self.w = np.zeros(1+x.shape[1])\n        self.error=[]\n        for _ in range(self.iter_):\n            err = 0\n            for xi,target in zip(x,y):\n                update_w = self.l_r * (target- self.predict(xi))\n                self.w_[1:] += update_w * xi\n                self.w[1] += update\n                error += int(update!=0)\n    def input_(self,x):\n        return np.dot(x, self.w_[1:])+self.w[0]\n    def predict(self,x):\n        return np.where(self.input(x) >=0.01,-1)\n    ",
      "metadata": {
        "trusted": true
      },
      "execution_count": 18,
      "outputs": []
    },
    {
      "cell_type": "code",
      "source": "diabetes_X, diabetes_y = datasets.load_diabetes(return_X_y=True)\n\ndiabetes_X = diabetes_X[:, np.newaxis, 2]\n\ndiabetes_X_train = diabetes_X[: -20]\ndiabetes_X_test = diabetes_X[-20:]\n\ndiabetes_y_train = diabetes_y[:-20]\ndiabetes_y_test = diabetes_y[-20:]\n\nregr = linear_model.LinearRegression()\n\nregr.fit(diabetes_X_train, diabetes_y_train)\n\ndiabetes_y_pred = regr.predict(diabetes_X_test)\n\nprint(\"Coefficients: \\n\", regr.coef_)\n\nprint(\"Mean squared error: %.2f\" % mean_squared_error(diabetes_y_test, diabetes_y_pred))\n\nprint(\"Coefficient of determination: %.2f\" % r2_score(diabetes_y_test, diabetes_y_pred))\n\nplt.scatter(diabetes_X_test, diabetes_y_test, color=\"black\")\nplt.plot(diabetes_X_test, diabetes_y_pred, color=\"blue\", linewidth=3)\n\nplt.xticks(())\nplt.yticks(())\n\nplt.show()\n",
      "metadata": {
        "trusted": true
      },
      "execution_count": 22,
      "outputs": [
        {
          "name": "stdout",
          "text": "Coefficients: \n [938.23786125]\nMean squared error: 2548.07\nCoefficient of determination: 0.47\n",
          "output_type": "stream"
        },
        {
          "output_type": "display_data",
          "data": {
            "text/plain": "<pyolite.display.Image at 0x65e4368>",
            "image/png": "[encoded data removed]"
          },
          "metadata": {}
        }
      ]
    },
    {
      "cell_type": "code",
      "source": "",
      "metadata": {},
      "execution_count": null,
      "outputs": []
    }
  ]
}